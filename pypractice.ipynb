{
  "nbformat": 4,
  "nbformat_minor": 0,
  "metadata": {
    "colab": {
      "name": "pypractice.ipynb",
      "provenance": [],
      "include_colab_link": true
    },
    "kernelspec": {
      "name": "python3",
      "display_name": "Python 3"
    },
    "language_info": {
      "name": "python"
    }
  },
  "cells": [
    {
      "cell_type": "markdown",
      "metadata": {
        "id": "view-in-github",
        "colab_type": "text"
      },
      "source": [
        "<a href=\"https://colab.research.google.com/github/Rokon-Uz-Zaman/Random-projects/blob/main/pypractice.ipynb\" target=\"_parent\"><img src=\"https://colab.research.google.com/assets/colab-badge.svg\" alt=\"Open In Colab\"/></a>"
      ]
    },
    {
      "cell_type": "code",
      "metadata": {
        "colab": {
          "base_uri": "https://localhost:8080/"
        },
        "id": "33ZqbS7xM2h7",
        "outputId": "75fb1eca-c926-421b-b798-6661eea3c4db"
      },
      "source": [
        "#roman\n",
        "\n",
        "num= int(input(\"enter a number \"))\n",
        "\n",
        "\n",
        "for i in range(num+1):\n",
        "  for j in range(i):\n",
        "    print(j,end=\"\" )\n",
        "  print(\"\")"
      ],
      "execution_count": null,
      "outputs": [
        {
          "output_type": "stream",
          "name": "stdout",
          "text": [
            "enter a number 9\n",
            "\n",
            "0\n",
            "01\n",
            "012\n",
            "0123\n",
            "01234\n",
            "012345\n",
            "0123456\n",
            "01234567\n",
            "012345678\n"
          ]
        }
      ]
    },
    {
      "cell_type": "code",
      "metadata": {
        "colab": {
          "base_uri": "https://localhost:8080/"
        },
        "id": "4prwqvJLd8uw",
        "outputId": "62dd5d20-3bdb-4b4b-d85b-38b84fd07fae"
      },
      "source": [
        "#roman\n",
        "\n",
        "num= int(input(\"enter a number \"))\n",
        "\n",
        "\n",
        "for i in range(num+1):\n",
        "  for j in range(i):\n",
        "    print(i,end=\"\" )\n",
        "  print(\"\")"
      ],
      "execution_count": null,
      "outputs": [
        {
          "output_type": "stream",
          "name": "stdout",
          "text": [
            "enter a number 9\n",
            "\n",
            "1\n",
            "22\n",
            "333\n",
            "4444\n",
            "55555\n",
            "666666\n",
            "7777777\n",
            "88888888\n",
            "999999999\n"
          ]
        }
      ]
    },
    {
      "cell_type": "code",
      "metadata": {
        "colab": {
          "base_uri": "https://localhost:8080/"
        },
        "id": "h8jxn7oNV_G_",
        "outputId": "05505a20-a607-439e-e80d-e2567fa4bb84"
      },
      "source": [
        "\n",
        "#roman\n",
        "n=int(input(\"enter number \"))\n",
        "\n",
        "\n",
        "for i in range(n):\n",
        "  for j in range(i+1):\n",
        "    if j == 0 or j == (i):\n",
        "      print(\"*\",end=\"\")\n",
        "    else:\n",
        "      print(\" \",end=\"\")  \n",
        "  print(\"\")"
      ],
      "execution_count": null,
      "outputs": [
        {
          "output_type": "stream",
          "name": "stdout",
          "text": [
            "enter number 9\n",
            "*\n",
            "**\n",
            "* *\n",
            "*  *\n",
            "*   *\n",
            "*    *\n",
            "*     *\n",
            "*      *\n",
            "*       *\n"
          ]
        }
      ]
    },
    {
      "cell_type": "code",
      "metadata": {
        "colab": {
          "base_uri": "https://localhost:8080/"
        },
        "id": "rrk1gSDsZrYK",
        "outputId": "08aa04c7-0ca7-4d00-dcc8-85dd31bcab82"
      },
      "source": [
        "\n",
        "#roman\n",
        "n=int(input(\"enter number \"))\n",
        "\n",
        "\n",
        "for i in range(n):\n",
        "  for j in range(i+1):\n",
        "    if j == 0 or j == (i):\n",
        "      print(\"*\",end=\"\")\n",
        "    else:\n",
        "      print(\" \",end=\"\")  \n",
        "  print(\"\")"
      ],
      "execution_count": null,
      "outputs": [
        {
          "output_type": "stream",
          "name": "stdout",
          "text": [
            "enter number 9\n",
            "*\n",
            "**\n",
            "* *\n",
            "*  *\n",
            "*   *\n",
            "*    *\n",
            "*     *\n",
            "*      *\n",
            "*       *\n"
          ]
        }
      ]
    },
    {
      "cell_type": "code",
      "metadata": {
        "colab": {
          "base_uri": "https://localhost:8080/"
        },
        "id": "XY1sDryiaH6R",
        "outputId": "5c0c9565-bb0e-4804-ca9a-280174b341ce"
      },
      "source": [
        "#roman\n",
        "\n",
        "n=int(input(\"enter number \"))\n",
        "\n",
        "for i in range(n):\n",
        "  for j in range(i+1):\n",
        "    if i !=(n-1):\n",
        "      if j == 0 or j == (i):\n",
        "       print(\"*\",end=\"\")\n",
        "       \n",
        "      else:\n",
        "         \n",
        "        print(\" \",end=\"\")  \n",
        "    else:\n",
        "      print(\"*\",end=\"\")   \n",
        "  print(\"\")"
      ],
      "execution_count": null,
      "outputs": [
        {
          "output_type": "stream",
          "name": "stdout",
          "text": [
            "enter number 9\n",
            "*\n",
            "**\n",
            "* *\n",
            "*  *\n",
            "*   *\n",
            "*    *\n",
            "*     *\n",
            "*      *\n",
            "*********\n"
          ]
        }
      ]
    },
    {
      "cell_type": "code",
      "metadata": {
        "colab": {
          "base_uri": "https://localhost:8080/"
        },
        "id": "YgfAgyClSW4O",
        "outputId": "41d6bab2-0c76-4e72-f0a1-fdfe51afbbd3"
      },
      "source": [
        "#collected \n",
        "\n",
        "rows = int(input(\"Enter the number of rows: \"))  \n",
        "# Outer loop will print number of rows  \n",
        "for i in range(rows+1):  \n",
        "    # Inner loop will print the value of i after each iteration  \n",
        "    for j in range(i):  \n",
        "        print(i, end=\" \")  # print number  \n",
        "    # line after each row to display pattern correctly  \n",
        "    print(\" \") "
      ],
      "execution_count": null,
      "outputs": [
        {
          "output_type": "stream",
          "name": "stdout",
          "text": [
            "Enter the number of rows: 9\n",
            " \n",
            "1  \n",
            "2 2  \n",
            "3 3 3  \n",
            "4 4 4 4  \n",
            "5 5 5 5 5  \n",
            "6 6 6 6 6 6  \n",
            "7 7 7 7 7 7 7  \n",
            "8 8 8 8 8 8 8 8  \n",
            "9 9 9 9 9 9 9 9 9  \n"
          ]
        }
      ]
    },
    {
      "cell_type": "code",
      "metadata": {
        "colab": {
          "base_uri": "https://localhost:8080/"
        },
        "id": "m3UFrfiCOvTQ",
        "outputId": "dbce728f-d36d-47f5-dbf8-91b31315a63c"
      },
      "source": [
        "#collected \n",
        "# This is the example of print simple pyramid pattern  \n",
        "n = int(input(\"Enter the number of rows\"))  \n",
        "# outer loop to handle number of rows  \n",
        "for i in range(0, n):  \n",
        "    # inner loop to handle number of columns  \n",
        "    # values is changing according to outer loop  \n",
        "        for j in range(0, i + 1):  \n",
        "            # printing stars  \n",
        "            print(\"* \", end=\"\")       \n",
        "  \n",
        "        # ending line after each row  \n",
        "        print()  "
      ],
      "execution_count": null,
      "outputs": [
        {
          "output_type": "stream",
          "name": "stdout",
          "text": [
            "Enter the number of rows9\n",
            "* \n",
            "* * \n",
            "* * * \n",
            "* * * * \n",
            "* * * * * \n",
            "* * * * * * \n",
            "* * * * * * * \n",
            "* * * * * * * * \n",
            "* * * * * * * * * \n"
          ]
        }
      ]
    }
  ]
}